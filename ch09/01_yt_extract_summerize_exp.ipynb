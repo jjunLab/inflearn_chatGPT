{
 "cells": [
  {
   "cell_type": "markdown",
   "metadata": {},
   "source": [
    "# 유튜브 스크립트 불러오기"
   ]
  },
  {
   "cell_type": "markdown",
   "metadata": {},
   "source": [
    "pip install langchain"
   ]
  },
  {
   "cell_type": "code",
   "execution_count": 1,
   "metadata": {},
   "outputs": [],
   "source": [
    "from langchain.document_loaders import YoutubeLoader"
   ]
  },
  {
   "cell_type": "markdown",
   "metadata": {},
   "source": [
    "pip install youtube_transcript_api"
   ]
  },
  {
   "cell_type": "code",
   "execution_count": 13,
   "metadata": {},
   "outputs": [
    {
     "data": {
      "text/plain": [
       "[Document(page_content=\"today we have Elon Musk Elon thank you for joining us yeah thanks for having me so we want to spend the time today talking about uh your view of the future and what people should work on so to start off could you tell us you famously said when you were younger there were five problems that you thought were most important for you to work on um if you were 22 today what would the five problems that you would think about working on B uh well first of all I think um if somebody is doing something that is useful to the rest of society I think that's a good thing like it doesn't have to change the world like you know um if you're doing something that has high value to people um and frankly even if it's something if it's like um just a little game or you know the some improvement in photo sharing or something if it if it has a small amount of good uh for a large number of people um that's I mean I think that's that's fine like stuff doesn't need to be changed the world just to be good um uh but you know in terms of things that I think uh most likely to affect the the future of humanity I think um AI is probably the single biggest item in the near term that's likely to affect uh Humanity so it's very important that we have the Advent of AI uh in a good way that that is something that um if you if you could look at the crystal ball and and see the future you would like you would like that outcome um because it is something that could go um could go wrong um as we've talked about many times um and so we really need to make sure it goes right um that's that's I think AI working on AI and making sure it's a great future that's that's the most important thing I think right now um the most pressing item SEC uh then um obviously I think it's to do with with genetics um if you can actually solve um genetic diseases um if you can prevent Dementia or Alzheimer's or something like that that with genetic reprogramming that would be wonderful so I think this genetics it might be the sort of second most important item I think um having a high bandwidth interface to the brain like um we're currently bandwidth limited we we have a digital tertiary self uh in the form of our email capabilities like computers phones applications uh we're effectively superhuman um but we're extremely bad with constraint in that interface between the cortex and your sort of uh that the tertiary digital form of yourself and helping solve that bandwidth constraint uh would would be I think very important for the future as well so uh one of the I think most common questions I I hear young people at ambitious young people ask is I want to be the next Elon Musk how do I do that um obviously the next Elon Musk will work on very different things than than you did but what have you done or what did you do when you were younger that you think sort of set you up to have a big impact well I think first of all I should say that I did not expect to be involved in all these things so the the the the the the five things that I thought about at the time in in college now quite a long time ago uh 25 years ago um you know being you know making life multi-planetary um selling accelerating the transition to sustainable energy um the the internet broadly speaking um and and then genetics and AI I think um I didn't expect to be involved in in all of those things I actually at the time in college I sort of thought um helping with electrification of cars was how I would start out and that's uh that's actually what I worked on as an intern was um Advanced Ultra capacitors with to see if they there would be a breakthrough relative to boundaries for energy storage in cars and then when I came out to go to Stanford um that's what I was going to be doing my grad studies on is um I was working on Advanced uh energy storage Technologies for electric cars and then I put that on hold to start an Internet company in 95 because um that there does seem to be like a time for particular Technologies when they're at a steep point in the inflection code and um and I didn't want to you know to appears to Stanford and then and what should all happen um and then and I wasn't entirely certain that the technology I'd be working on would actually succeed um like you can get you can get a you know Doctrine on many things that ultimately are not do not have a practical bearing on the world um and I wanted to you know just I really was just trying to be useful that's the optimization it's like what what are the what can I do that would actually be useful do you think people that want to be useful today should get phds um mostly not someone what is the best way some yes but mostly not um how should someone figure out how they can be most useful whatever this thing is that you're trying to create what would what would be the utility Delta compared to the current state of the art times how many people it would affect so that's why I think um having something that has a that's that has a makes makes a big difference but affects a sort of small to moderate number of people is great as is something that makes even a small difference but but affects a vast number of people like the area yeah under you know yeah exactly but under area under the curve is would actually be roughly similar for those two things so it's actually really about um uh yeah just trying to be useful and when you're trying to estimate probability of success so this thing will be really useful good area under the curve uh I guess to use the example of SpaceX when you made the go decision that you were actually going to do that this was kind of a very crazy thing at the time very crazy for sure yeah I'm not sure about saying that um but I kind of agree I agreed with them that it was quite crazy crazy if um if the objective was um to achieve the um best risk adjusted return starting right company is insane um but that was not that was not my objective I I I'd simply come to the conclusion um that if something didn't happen to improve Rock technology would be stuck on Earth forever um and um and the big aerospace companies had just had no interest in radical Innovation all they wanted to do was try to make their old technology slightly better every year and in fact sometimes it would actually get worse um and particularly in Rockets it's pretty bad like the in in 69 we were able to go to the Moon with a Saturn V and then the space shuttle could only take people to low earth orbit and then the space shuttle retired I mean that trend is basically Trends to zero people sometimes think technology just automatically gets better every year but it actually doesn't it only gets better if smart people work work like crazy to make it better that's how any technology actually gets better and and by itself technology if people don't work and it actually will decline um you can look and look at the history of civilizations many civilizations and look at say ancient Egypt where they're able to build these incredible pyramids and then they basically forgot how to build permits um and um and then even hieroglyphics they've about how to read hieroglyphics or you look at Rome and how they're able to put to build these incredible roadways and aqueducts and indoor plumbing and they forgot how to do all of those things um and there are many such examples in in history um so I I think um Choice bear in mind uh that you know entropy is not on your side yeah one thing I I really like about you is you are unusually fearless and willing to go in the face of other people telling you something is crazy and I know a lot of pretty crazy people you still stand out uh where does that come from or how do you think about making a decision when everyone tells you this is a crazy idea or where do you get the internal strength to do that well first of all I'd say I actually think I I think I feel feel fear quite strongly um so it's not as though I just have the absence of fear I feel quite strongly um but there were just times when something is important enough you believe in it enough that you you do it in spite of fear So speaking of important things like people shouldn't think I I I I should people should think well I feel fear about this and therefore I shouldn't do it um it's normal to be to feel fear like you'd have to you have to do something mentally wrong if you didn't feel Fair um so you just feel it and let the importance of it drive you to do it anyway yeah you know actually something that can be helpful is fatalism uh some degree um if you just if just accept the probabilities um then that diminishes fear so um we're starting SpaceX I thought the odds of success were less than ten percent um and I just accepted that actually probably I would just lose lose everything um but that maybe would make some progress if we could just move the ball forward even if we died Maybe some other company could pick up the Baton and move and keep moving it Forward um so that would still do some good um yeah same with Tesla I thought the odds of a car company succeeding were extremely low what do you think the odds of the Mars colony are at this point today well um oddly enough I actually think they're pretty good um so like when can I go okay um at this point I am certain there is a way I'm certain that success is one of the possible outcomes for establishing a self-sustaining Mass Colony growing Moss Colony I'm certain that that is possible whereas until maybe a few years ago I was not sure that success was even one of the possible outcomes it's a meaningful number of people going to Mars I think this is potentially something that can be accomplished in about 10 years um maybe sooner maybe nine years um I need to make sure that SpaceX doesn't die between now and then and that I don't die or if I do die that someone takes over who will continue that you shouldn't go on the first launch yeah exactly um the first launch will be robotic anyway so I want to go except for the internet latency yeah they're at latency would be pretty significant um Mars is roughly 12 light minutes from the Sun and Earth is eight light minutes so closest approach Mars is four light minutes away it was approaches 20. a little more because you have to you can't sort of talk directly through the Sun speaking of uh really important problems um AI so you have been outspoken about AI um could you talk about what you think the positive future for air looks like and how we get there okay I mean I do want to emphasize that um this is not really something that I advocate or or this is not prescriptive this is simply for hopefully predictive um because people some say like well like like this is something that I want to occur instead of so something I think that probably is the best of the available Alternatives um the best of the available alternatives that I can come up with and maybe somebody else can come up with a better approach a better outcome is that we achieve democratization of AI technology meaning that no one company or a small set of individuals has control over Advanced AI technology I think that that's very dangerous um it could also get stolen by somebody bad you know like some evil dictator or country could send their intelligence agency to go steal it and gain control it just becomes a very unstable situation I think if you've got any um any incredibly powerful AI um you just don't know who's who's going to control that so it's not as I think that the risk is that the AI would develop a will of its own right off the bat I think it's more that's the concern is that some someone um may use it in a way that is bad or and even if they weren't going to use it in a way that's bad that somebody could take it from them and use it in a way that's bad that that I think is quite a big danger so I think we must have democratization of AI technology and make it widely available um and that's you know the reason that obviously uh you mean the rest of the team uh you know created openai um was to help uh with the Democracy help help spread out AI technology so it doesn't get concentrated in the hands of a few um and but then of course that needs to be combined with solving the high bandwidth interface to the cortex um humans are so slow humans are so slow yes exactly um but you know we already have a situation in our brain where we've got the cortex and limbic system and the limbic system is kind of the I mean that's the primitive brain it's kind of like the yours your instincts and um whatnot and then the cortex is the thinking of a part of the brain those two seem to work together quite well um occasionally your cortex and limbic system May disagree but they it definitely works pretty well generally works pretty well and it's like rare to find someone who I've not found someone who wishes to either get rid of their cortex or get rid of their living system very true yeah it's that's unusual so so I think if if we can effectively uh um merge with uh AI like um improving that uh the the neural link between your cortex and the the your digital extension yourself which already like I said already exists just has a bandwidth issue um and then then effectively um you become an AI human symbiote um and and if that then is widespread with anyone who wants it can have it uh then we solve the control problem as well we don't have to worry about um some sort of evil dictator AI because kind of we are the AI collectively that seems like the best outcome I can think of so you've seen other companies in their early days that start small and get really successful um hope I don't regret asking this on camera but how do you think open AI is going as a six month old company it seems to go pretty well I think we've got a really talented group with openai and yeah really really talented team and they're working hard um open a is structured as uh see a 501c through non-profit um but you know many non-profits uh do not have a sense of urgency it's fine they don't have to have a sense of urgency um but open AI does um because I think people really believe in the mission I think it's important um and it's it's about minimizing um the risk of existential harm um in the future and uh so I think it's going well I'm pretty impressed with what people are doing in the talent level and obviously we're always looking for um great people to join the mission close to 40 people knots yeah well uh all right just a few more questions before we we wrap up how do you spend your days now like what what do you allocate most of your time to my time is mostly split uh well it's between SpaceX and and Tesla and of course of course I I try to spend um uh it's a plot of every week at open AI um so I spend most I spend basically half a day at open AI most weeks and then and then I have some open-air stuff that happens during the week but other than that it's written SpaceX or Tesla like what does your time look like there uh yeah so it's a good question um I think a lot of people think I must spend a lot of time with media or or on businessy things but actually almost uh almost all my time like 80 of it is spent on engineering and design in engineering and design so it's um developing Next Generation product at that's 80 of it um You probably don't remember this a very long time ago many many years you took me on a tour of SpaceX and the most impressive thing was that you knew every detail of the rocket and every piece of engineering that went into it and I don't think many people get that about you yeah I think a lot of people think I'm kind of a business person or something which was fine like business is fine but um like I uh but really it's you know it was like it's SpaceX uh Gwen Shotwell is Chief Operating Officer she kind of manages um uh legal Finance sales um and kind of General business activity and then my time is almost entirely with the engineering team working on improving the Falcon 9 and the dragon spacecraft and developing the Moss Colonial architecture and then at Tesla it's working on the model 3 and uh yes I'm in the design studio typically yeah um have a day a week um dealing with Aesthetics and and uh look and feel things and and then most the rest of the week is just going through engineering of of the car itself as well as engineering of the the factory um because the the biggest Epiphany I've had this this year is that what really matters is the is the machine that builds the machine the factory um and this that is at least Taurus magnitude hotter than the vehicle itself it's amazing to watch the robots go here and these cars just happen yeah now this actually is a has a relatively low level of automation compared to what the gigafactory will have and what model 3 will have what's the speed on the line of these cars actually average speed of the line is incredibly slow it's probably about um including both X and S um it's maybe uh five you know five centimeters um per second and what can you do this is very slow or what would you like to get to I'm confident we can get to to at least one meter per second so 20 fold increase best yeah um at least I mean I think quite a one meter per second just put that perspective is a slow walk or like a medium speed walk a fast walk could be uh one and a half meters per second and um and then the fastest humans can run over 10 meters per second so if we're only doing 0.05 meters per second that's very slow current current speed and and at one meter per second you can still walk faster than the production line\", metadata={'source': 'vQT9gL0Fack'})]"
      ]
     },
     "execution_count": 13,
     "metadata": {},
     "output_type": "execute_result"
    }
   ],
   "source": [
    "loader = YoutubeLoader.from_youtube_url(\"https://www.youtube.com/watch?v=vQT9gL0Fack\")\n",
    "transcript = loader.load()\n",
    "transcript"
   ]
  },
  {
   "cell_type": "markdown",
   "metadata": {},
   "source": [
    "# 긴 내용 요약하기"
   ]
  },
  {
   "cell_type": "code",
   "execution_count": 14,
   "metadata": {},
   "outputs": [],
   "source": [
    "from langchain.prompts import PromptTemplate\n",
    "from langchain.chains.summarize import load_summarize_chain\n",
    "from langchain.text_splitter import RecursiveCharacterTextSplitter\n",
    "from langchain.chat_models import ChatOpenAI"
   ]
  },
  {
   "cell_type": "markdown",
   "metadata": {},
   "source": [
    "## 텍스트 쪼개기"
   ]
  },
  {
   "cell_type": "code",
   "execution_count": 15,
   "metadata": {},
   "outputs": [],
   "source": [
    "text_splitter = RecursiveCharacterTextSplitter(chunk_size=4000, chunk_overlap=0)\n",
    "text = text_splitter.split_documents(transcript)"
   ]
  },
  {
   "cell_type": "code",
   "execution_count": 16,
   "metadata": {},
   "outputs": [
    {
     "data": {
      "text/plain": [
       "5"
      ]
     },
     "execution_count": 16,
     "metadata": {},
     "output_type": "execute_result"
    }
   ],
   "source": [
    "len(text)"
   ]
  },
  {
   "cell_type": "code",
   "execution_count": 17,
   "metadata": {},
   "outputs": [
    {
     "data": {
      "text/plain": [
       "Document(page_content=\"today we have Elon Musk Elon thank you for joining us yeah thanks for having me so we want to spend the time today talking about uh your view of the future and what people should work on so to start off could you tell us you famously said when you were younger there were five problems that you thought were most important for you to work on um if you were 22 today what would the five problems that you would think about working on B uh well first of all I think um if somebody is doing something that is useful to the rest of society I think that's a good thing like it doesn't have to change the world like you know um if you're doing something that has high value to people um and frankly even if it's something if it's like um just a little game or you know the some improvement in photo sharing or something if it if it has a small amount of good uh for a large number of people um that's I mean I think that's that's fine like stuff doesn't need to be changed the world just to be good um uh but you know in terms of things that I think uh most likely to affect the the future of humanity I think um AI is probably the single biggest item in the near term that's likely to affect uh Humanity so it's very important that we have the Advent of AI uh in a good way that that is something that um if you if you could look at the crystal ball and and see the future you would like you would like that outcome um because it is something that could go um could go wrong um as we've talked about many times um and so we really need to make sure it goes right um that's that's I think AI working on AI and making sure it's a great future that's that's the most important thing I think right now um the most pressing item SEC uh then um obviously I think it's to do with with genetics um if you can actually solve um genetic diseases um if you can prevent Dementia or Alzheimer's or something like that that with genetic reprogramming that would be wonderful so I think this genetics it might be the sort of second most important item I think um having a high bandwidth interface to the brain like um we're currently bandwidth limited we we have a digital tertiary self uh in the form of our email capabilities like computers phones applications uh we're effectively superhuman um but we're extremely bad with constraint in that interface between the cortex and your sort of uh that the tertiary digital form of yourself and helping solve that bandwidth constraint uh would would be I think very important for the future as well so uh one of the I think most common questions I I hear young people at ambitious young people ask is I want to be the next Elon Musk how do I do that um obviously the next Elon Musk will work on very different things than than you did but what have you done or what did you do when you were younger that you think sort of set you up to have a big impact well I think first of all I should say that I did not expect to be involved in all these things so the the the the the the five things that I thought about at the time in in college now quite a long time ago uh 25 years ago um you know being you know making life multi-planetary um selling accelerating the transition to sustainable energy um the the internet broadly speaking um and and then genetics and AI I think um I didn't expect to be involved in in all of those things I actually at the time in college I sort of thought um helping with electrification of cars was how I would start out and that's uh that's actually what I worked on as an intern was um Advanced Ultra capacitors with to see if they there would be a breakthrough relative to boundaries for energy storage in cars and then when I came out to go to Stanford um that's what I was going to be doing my grad studies on is um I was working on Advanced uh energy storage Technologies for electric cars and then I put that on hold to start an Internet company in 95 because um that there does seem to be like a time for particular Technologies when\", metadata={'source': 'vQT9gL0Fack'})"
      ]
     },
     "execution_count": 17,
     "metadata": {},
     "output_type": "execute_result"
    }
   ],
   "source": [
    "text[0]"
   ]
  },
  {
   "cell_type": "code",
   "execution_count": 18,
   "metadata": {},
   "outputs": [
    {
     "data": {
      "text/plain": [
       "Document(page_content=\"they're at a steep point in the inflection code and um and I didn't want to you know to appears to Stanford and then and what should all happen um and then and I wasn't entirely certain that the technology I'd be working on would actually succeed um like you can get you can get a you know Doctrine on many things that ultimately are not do not have a practical bearing on the world um and I wanted to you know just I really was just trying to be useful that's the optimization it's like what what are the what can I do that would actually be useful do you think people that want to be useful today should get phds um mostly not someone what is the best way some yes but mostly not um how should someone figure out how they can be most useful whatever this thing is that you're trying to create what would what would be the utility Delta compared to the current state of the art times how many people it would affect so that's why I think um having something that has a that's that has a makes makes a big difference but affects a sort of small to moderate number of people is great as is something that makes even a small difference but but affects a vast number of people like the area yeah under you know yeah exactly but under area under the curve is would actually be roughly similar for those two things so it's actually really about um uh yeah just trying to be useful and when you're trying to estimate probability of success so this thing will be really useful good area under the curve uh I guess to use the example of SpaceX when you made the go decision that you were actually going to do that this was kind of a very crazy thing at the time very crazy for sure yeah I'm not sure about saying that um but I kind of agree I agreed with them that it was quite crazy crazy if um if the objective was um to achieve the um best risk adjusted return starting right company is insane um but that was not that was not my objective I I I'd simply come to the conclusion um that if something didn't happen to improve Rock technology would be stuck on Earth forever um and um and the big aerospace companies had just had no interest in radical Innovation all they wanted to do was try to make their old technology slightly better every year and in fact sometimes it would actually get worse um and particularly in Rockets it's pretty bad like the in in 69 we were able to go to the Moon with a Saturn V and then the space shuttle could only take people to low earth orbit and then the space shuttle retired I mean that trend is basically Trends to zero people sometimes think technology just automatically gets better every year but it actually doesn't it only gets better if smart people work work like crazy to make it better that's how any technology actually gets better and and by itself technology if people don't work and it actually will decline um you can look and look at the history of civilizations many civilizations and look at say ancient Egypt where they're able to build these incredible pyramids and then they basically forgot how to build permits um and um and then even hieroglyphics they've about how to read hieroglyphics or you look at Rome and how they're able to put to build these incredible roadways and aqueducts and indoor plumbing and they forgot how to do all of those things um and there are many such examples in in history um so I I think um Choice bear in mind uh that you know entropy is not on your side yeah one thing I I really like about you is you are unusually fearless and willing to go in the face of other people telling you something is crazy and I know a lot of pretty crazy people you still stand out uh where does that come from or how do you think about making a decision when everyone tells you this is a crazy idea or where do you get the internal strength to do that well first of all I'd say I actually think I I think I feel feel fear quite strongly um so it's not as though I just have the absence of fear I feel quite strongly um but there\", metadata={'source': 'vQT9gL0Fack'})"
      ]
     },
     "execution_count": 18,
     "metadata": {},
     "output_type": "execute_result"
    }
   ],
   "source": [
    "text[1]"
   ]
  },
  {
   "cell_type": "markdown",
   "metadata": {},
   "source": [
    "## 사용할 LLM 모델 설정"
   ]
  },
  {
   "cell_type": "markdown",
   "metadata": {},
   "source": [
    "pip install openai\n",
    "pip install tiktoken"
   ]
  },
  {
   "cell_type": "code",
   "execution_count": 21,
   "metadata": {},
   "outputs": [],
   "source": [
    "llm = ChatOpenAI(temperature=0,\n",
    "                    openai_api_key=\"api key\",\n",
    "                    max_tokens=3000,\n",
    "                    model_name=\"gpt-3.5-turbo\",\n",
    "                    request_timeout=120\n",
    "                )"
   ]
  },
  {
   "cell_type": "markdown",
   "metadata": {},
   "source": [
    "## 요약에 사용할 프롬프트"
   ]
  },
  {
   "cell_type": "code",
   "execution_count": 22,
   "metadata": {},
   "outputs": [],
   "source": [
    "# 각각의 chunck 를 요약하기\n",
    "prompt = PromptTemplate(\n",
    "    template=\"\"\"Summarize the youtube video whose transcript is provided within backticks \\\n",
    "    ```{text}```\n",
    "    \"\"\", input_variables=[\"text\"]\n",
    ")\n",
    "\n",
    "# 요약된 내용들을 취합하여 다시한번 요약하기\n",
    "combine_prompt = PromptTemplate(\n",
    "    template=\"\"\"Combine all the youtube video transcripts  provided within backticks \\\n",
    "    ```{text}```\n",
    "    Provide a concise summary between 8 to 10 sentences.\n",
    "    \"\"\", input_variables=[\"text\"]\n",
    ")"
   ]
  },
  {
   "cell_type": "markdown",
   "metadata": {},
   "source": [
    "## 요약 시작하기"
   ]
  },
  {
   "cell_type": "code",
   "execution_count": 24,
   "metadata": {},
   "outputs": [],
   "source": [
    "chain = load_summarize_chain(llm, chain_type=\"map_reduce\", verbose=False, map_prompt=prompt, combine_prompt=combine_prompt)"
   ]
  },
  {
   "cell_type": "code",
   "execution_count": 26,
   "metadata": {},
   "outputs": [],
   "source": [
    "output = chain.run(text)"
   ]
  },
  {
   "cell_type": "code",
   "execution_count": 27,
   "metadata": {},
   "outputs": [
    {
     "data": {
      "text/plain": [
       "\"Elon Musk discusses various important issues in the provided YouTube video transcripts. He emphasizes the value of working on something useful to society, even if it doesn't change the world. Musk identifies AI as the most significant issue that will impact humanity, stressing the need to ensure its development is beneficial. He also highlights genetics as a crucial problem to solve, particularly in preventing diseases like Dementia and Alzheimer's. Additionally, Musk emphasizes the need for a high bandwidth interface between the brain and digital technology. He reflects on his own journey, mentioning his initial focus on electrification of cars and energy storage technologies. \\n\\nThe videos also discuss the importance of making a big impact and creating something that makes a difference. The speaker talks about their decision to start SpaceX, despite it being considered crazy at the time, and criticizes big aerospace companies for not focusing on radical innovation. They highlight the decline of civilizations due to the lack of effort in improving technology and emphasize the need for smart people to continuously work on making technology better. The videos also touch on Musk's fearlessness in pursuing ideas, even when others consider them crazy. \\n\\nMusk also discusses the importance of taking action despite fear and the need for democratization of AI technology. He shares his initial doubts and fears when starting SpaceX and Tesla but emphasizes the importance of accepting probabilities and moving forward. Musk expresses his belief in the possibility of establishing a self-sustaining Mars colony and the need to ensure the survival of SpaceX. He also discusses the potential dangers of AI technology and advocates for its democratization to prevent control by a single entity. \\n\\nFurthermore, the videos discuss Musk's involvement with OpenAI and its mission to spread out AI technology. He talks about the need to solve the high bandwidth interface to effectively merge with AI and create an AI-human symbiote. Musk also mentions his focus on engineering and design, despite being seen as a business person. Lastly, the videos touch on the development of Moss Colonial architecture and the work being done on the Tesla Model 3, with an emphasis on the importance of the factory in the production process.\""
      ]
     },
     "execution_count": 27,
     "metadata": {},
     "output_type": "execute_result"
    }
   ],
   "source": [
    "output"
   ]
  },
  {
   "cell_type": "markdown",
   "metadata": {},
   "source": [
    "## 번역하기"
   ]
  },
  {
   "cell_type": "markdown",
   "metadata": {},
   "source": [
    "pip install googletrans==3.1.0a0"
   ]
  },
  {
   "cell_type": "code",
   "execution_count": 29,
   "metadata": {},
   "outputs": [
    {
     "name": "stdout",
     "output_type": "stream",
     "text": [
      "Elon Musk는 제공된 YouTube 비디오 대본에서 다양한 중요한 문제에 대해 논의합니다. 세상을 바꾸지는 못하더라도 사회에 도움이 되는 일을 하는 것의 가치를 강조한다. 머스크는 AI를 인류에게 영향을 미칠 가장 중요한 문제로 꼽으며 AI의 발전이 유익하도록 보장해야 할 필요성을 강조했습니다. 그는 또한 특히 치매 및 알츠하이머병과 같은 질병을 예방하는 데 있어 해결해야 할 중요한 문제로 유전학을 강조합니다. 또한 Musk는 두뇌와 디지털 기술 간의 고대역폭 인터페이스의 필요성을 강조합니다. 그는 자동차의 전기화와 에너지 저장 기술에 대한 초기 초점을 언급하면서 자신의 여정을 되돌아봅니다.\n",
      "\n",
      "비디오는 또한 큰 영향을 미치고 차이를 만드는 무언가를 만드는 것의 중요성에 대해 논의합니다. 연사는 당시 미친 짓으로 여겨졌음에도 불구하고 SpaceX를 시작하기로 한 결정에 대해 이야기하고 급진적 혁신에 집중하지 않는 대형 항공 우주 회사를 비판합니다. 그들은 기술 개선 노력 부족으로 인한 문명의 쇠퇴를 강조하고 똑똑한 사람들이 기술을 개선하기 위해 지속적으로 노력해야 할 필요성을 강조합니다. 비디오는 또한 다른 사람들이 아이디어를 미쳤다고 생각할 때에도 아이디어를 추구하는 머스크의 대담성을 다룹니다.\n",
      "\n",
      "머스크는 또한 AI 기술의 민주화 필요성과 두려움에도 불구하고 조치를 취하는 것의 중요성에 대해 논의합니다. 그는 SpaceX와 Tesla를 시작할 때 초기 의심과 두려움을 공유하지만 가능성을 받아들이고 앞으로 나아가는 것의 중요성을 강조합니다. 머스크는 자급자족할 수 있는 화성 식민지를 건설할 가능성과 SpaceX의 생존을 보장해야 할 필요성에 대한 자신의 믿음을 표현합니다. 그는 또한 AI 기술의 잠재적 위험에 대해 논의하고 단일 주체의 통제를 방지하기 위해 AI 기술의 민주화를 옹호합니다.\n",
      "\n",
      "또한 비디오는 OpenAI에 대한 Musk의 참여와 AI 기술을 확산하려는 임무에 대해 설명합니다. 그는 AI와 효과적으로 병합하고 AI-인간 공생체를 만들기 위해 고대역폭 인터페이스를 해결해야 할 필요성에 대해 이야기합니다. Musk는 또한 사업가로 보여지지만 엔지니어링과 디자인에 중점을 둔다고 언급합니다. 마지막으로 비디오는 생산 과정에서 공장의 중요성을 강조하면서 Moss Colonial 아키텍처 개발과 Tesla Model 3에서 수행되는 작업에 대해 다룹니다.\n"
     ]
    }
   ],
   "source": [
    "from googletrans import Translator\n",
    "\n",
    "def google_trans(messages):\n",
    "    google = Translator()\n",
    "    result = google.translate(messages, dest=\"ko\")\n",
    "\n",
    "    return result.text\n",
    "\n",
    "result = google_trans(output)\n",
    "print(result)"
   ]
  },
  {
   "cell_type": "markdown",
   "metadata": {},
   "source": []
  }
 ],
 "metadata": {
  "kernelspec": {
   "display_name": "ch09_env",
   "language": "python",
   "name": "python3"
  },
  "language_info": {
   "codemirror_mode": {
    "name": "ipython",
    "version": 3
   },
   "file_extension": ".py",
   "mimetype": "text/x-python",
   "name": "python",
   "nbconvert_exporter": "python",
   "pygments_lexer": "ipython3",
   "version": "3.10.10"
  },
  "orig_nbformat": 4
 },
 "nbformat": 4,
 "nbformat_minor": 2
}
