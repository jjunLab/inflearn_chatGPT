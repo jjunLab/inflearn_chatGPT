{
 "cells": [
  {
   "cell_type": "markdown",
   "metadata": {},
   "source": [
    "# 유튜브 스크립트 불러오기"
   ]
  },
  {
   "cell_type": "markdown",
   "metadata": {},
   "source": [
    "pip install langchain"
   ]
  },
  {
   "cell_type": "code",
   "execution_count": 1,
   "metadata": {},
   "outputs": [],
   "source": [
    "from langchain.document_loaders import YoutubeLoader"
   ]
  },
  {
   "cell_type": "markdown",
   "metadata": {},
   "source": [
    "pip install youtube_transcript_api"
   ]
  },
  {
   "cell_type": "code",
   "execution_count": 3,
   "metadata": {},
   "outputs": [
    {
     "data": {
      "text/plain": [
       "[Document(page_content=\"I alluded in my opening remarks to the the jobs issue the economic effects on employment uh I think you have said uh in fact and I'm going to quote development of superhuman machine intelligence is probably the greatest threat to the continued existence of humanity end quote you may have had in mind the effect on on jobs which is really my biggest nightmare in the long term uh let me ask you uh what your biggest nightmare is and whether you share that concern like with all technological revolutions I expect there to be significant impact on jobs but exactly what that impact looks like is very difficult to predict if we went back to the the other side of a previous technological Revolution talking about the jobs that exist on the other side um you know you can go back and read books of this it's what people said at the time it's difficult I believe that there will be far greater jobs on the other side of this and the jobs of today will get better I think it's important first of all I think it's important to understand and think about gpd4 as a tool not a creature which is easy to get confused and it's a tool that people have a great deal of control over and how they use it and second gpt4 and things other systems like it are good at doing tasks not jobs and so you see already people that are using gpt4 to do their job much more efficiently by helping them with tasks now gbt4 will I think entirely automate away some jobs and it will create new ones that we believe will be much better this happens again my understanding of the history of technology is one long technological Revolution not a bunch of different ones put together but this has been continually happening we as our quality of life raises and as machines and tools that we create can help us live better lives uh the bar raises for what we do and and our human ability and what we spend our time going after uh goes after more ambitious more satisfying projects so there there will be an impact on jobs we try to be very clear about that and I think it will require partnership between the industry and government but mostly action by government to figure out how we want to mitigate that but I'm very optimistic about how great the jobs of the future will be thank you let me ask Ms Montgomery and Professor Marcus for your reactions those questions as well Ms Montgomery on the jobs Point yeah I mean well it's a hugely important question um and it's one that we've been talking about for a really long time at IBM you know we do believe that Ai and we've said it for a long time is going to change every job new jobs will be created many more jobs will be transformed and some jobs will transition away I'm a personal example of a job that didn't exist when I joined IBM and I have a team of AI governance professionals who are in new roles that we created you know as early as three years ago I mean they're new and they're growing so I think the most important thing that we could be doing and Canon should be doing now is to prepare the workforce of today and the workforce of tomorrow for partnering with F AI Technologies and using them and we've been very involved for for years now in doing that in focusing on skills-based hiring in educating for the skills of the future our skills build platform has seven million Learners and over a thousand courses worldwide focused on skills and we've pledged to train 30 million individuals by 2030 in the skills that are needed for society today thank you Professor Marcus may I go back to the first question as well absolutely on on the subject of nutrition labels I think we absolutely need to do that I think that there's some technical challenges in that building proper nutrition labels goes hand in hand with transparency the biggest scientific challenge in understanding these models is how they generalize what do they memorize and what new things do they do the more that there's in the data set for example the thing that you want to test accuracy on the less you can get a proper read on that so it's important first of all that scientists be part of that process and second that we have much greater transparency about what actually goes into these systems if we don't know what's in them then we don't know exactly how well they're doing when we give something new and we don't know how good a benchmark that will be for something that's entirely novel so I could go into that more but I want to flag that second is on jobs past performance history is not a guarantee of the future it has always been the case in the past that we have had more jobs that new jobs new professions come in as new technologies come in I think this one's going to be different and the real question is over what time time scale is it going to be 10 years is it going to be 100 years and I don't think anybody knows the answer to that question I think in the long run so-called artificial general intelligence really will replace a large fraction of human jobs we're not that close to artificial general intelligence despite all of the media hype and so forth I would say that what we have right now is just small sampling of the AI that we will build in 20 years people will laugh at this as I think it was Senator Hawley made the but maybe Senator Durbin made the example about this it was Senator Durbin made the example about cell phones when we look back at the AI of today 20 years ago we'll be like wow that stuff was really unreliable it couldn't really do planning which is an important technical aspect it's reasoning wasability and reasoning abilities were limited but when we get to AGI or artificial general intelligence mainly let's say it's 50 years that really is going to have I think profound effects on labor and there's just no way around that and last I don't know if I'm allowed to do this but I will note that Sam's worst fear I do not think is employment and he never told us what his worst fear actually is and I think it's germane to find out thank you I'm going to ask Mr Altman if he cares to respond yeah look we have tried to be very clear about the magnitude of the risks here I I think jobs and employment and what we're all going to do with our time really matters I agree that when we get to very powerful systems the landscape will change I think I'm just more optimistic that we are incredibly creative and we find new things to do with better tools and that will keep happening um my worst fears are that we cause significant we the field the technology the industry cause significant harm to the world I think that could happen a lot of different ways it's why we started the company it's a big part of why I'm here today and why we've been here in the past and we've been able to spend some time with you I think if this technology goes wrong it can go quite wrong and we want to be vocal about that we want to work with the government to prevent that from happening but we we try to be very clear-eyed about what the downside case is and the work that we have to do to mitigate that thank you and\", metadata={'source': 'Pn-W41hC764'})]"
      ]
     },
     "execution_count": 3,
     "metadata": {},
     "output_type": "execute_result"
    }
   ],
   "source": [
    "loader = YoutubeLoader.from_youtube_url(\"https://www.youtube.com/watch?v=Pn-W41hC764\")\n",
    "transcript = loader.load()\n",
    "transcript"
   ]
  },
  {
   "cell_type": "markdown",
   "metadata": {},
   "source": [
    "# 긴 내용 요약하기"
   ]
  },
  {
   "cell_type": "code",
   "execution_count": 5,
   "metadata": {},
   "outputs": [],
   "source": [
    "from langchain.prompts import PromptTemplate\n",
    "from langchain.chains.summarize import load_summarize_chain\n",
    "from langchain.text_splitter import RecursiveCharacterTextSplitter\n",
    "from langchain.chat_models import ChatOpenAI"
   ]
  },
  {
   "cell_type": "markdown",
   "metadata": {},
   "source": [
    "## 텍스트 쪼개기"
   ]
  },
  {
   "cell_type": "code",
   "execution_count": 6,
   "metadata": {},
   "outputs": [],
   "source": [
    "text_splitter = RecursiveCharacterTextSplitter(chunk_size=4000, chunk_overlap=0)\n",
    "text = text_splitter.split_documents(transcript)"
   ]
  },
  {
   "cell_type": "code",
   "execution_count": 7,
   "metadata": {},
   "outputs": [
    {
     "data": {
      "text/plain": [
       "2"
      ]
     },
     "execution_count": 7,
     "metadata": {},
     "output_type": "execute_result"
    }
   ],
   "source": [
    "len(text)"
   ]
  },
  {
   "cell_type": "code",
   "execution_count": 8,
   "metadata": {},
   "outputs": [
    {
     "data": {
      "text/plain": [
       "Document(page_content=\"I alluded in my opening remarks to the the jobs issue the economic effects on employment uh I think you have said uh in fact and I'm going to quote development of superhuman machine intelligence is probably the greatest threat to the continued existence of humanity end quote you may have had in mind the effect on on jobs which is really my biggest nightmare in the long term uh let me ask you uh what your biggest nightmare is and whether you share that concern like with all technological revolutions I expect there to be significant impact on jobs but exactly what that impact looks like is very difficult to predict if we went back to the the other side of a previous technological Revolution talking about the jobs that exist on the other side um you know you can go back and read books of this it's what people said at the time it's difficult I believe that there will be far greater jobs on the other side of this and the jobs of today will get better I think it's important first of all I think it's important to understand and think about gpd4 as a tool not a creature which is easy to get confused and it's a tool that people have a great deal of control over and how they use it and second gpt4 and things other systems like it are good at doing tasks not jobs and so you see already people that are using gpt4 to do their job much more efficiently by helping them with tasks now gbt4 will I think entirely automate away some jobs and it will create new ones that we believe will be much better this happens again my understanding of the history of technology is one long technological Revolution not a bunch of different ones put together but this has been continually happening we as our quality of life raises and as machines and tools that we create can help us live better lives uh the bar raises for what we do and and our human ability and what we spend our time going after uh goes after more ambitious more satisfying projects so there there will be an impact on jobs we try to be very clear about that and I think it will require partnership between the industry and government but mostly action by government to figure out how we want to mitigate that but I'm very optimistic about how great the jobs of the future will be thank you let me ask Ms Montgomery and Professor Marcus for your reactions those questions as well Ms Montgomery on the jobs Point yeah I mean well it's a hugely important question um and it's one that we've been talking about for a really long time at IBM you know we do believe that Ai and we've said it for a long time is going to change every job new jobs will be created many more jobs will be transformed and some jobs will transition away I'm a personal example of a job that didn't exist when I joined IBM and I have a team of AI governance professionals who are in new roles that we created you know as early as three years ago I mean they're new and they're growing so I think the most important thing that we could be doing and Canon should be doing now is to prepare the workforce of today and the workforce of tomorrow for partnering with F AI Technologies and using them and we've been very involved for for years now in doing that in focusing on skills-based hiring in educating for the skills of the future our skills build platform has seven million Learners and over a thousand courses worldwide focused on skills and we've pledged to train 30 million individuals by 2030 in the skills that are needed for society today thank you Professor Marcus may I go back to the first question as well absolutely on on the subject of nutrition labels I think we absolutely need to do that I think that there's some technical challenges in that building proper nutrition labels goes hand in hand with transparency the biggest scientific challenge in understanding these models is how they generalize what do they memorize and what new things do they do the more that there's in the data set for example the thing that you want to test accuracy on\", metadata={'source': 'Pn-W41hC764'})"
      ]
     },
     "execution_count": 8,
     "metadata": {},
     "output_type": "execute_result"
    }
   ],
   "source": [
    "text[0]"
   ]
  },
  {
   "cell_type": "code",
   "execution_count": 9,
   "metadata": {},
   "outputs": [
    {
     "data": {
      "text/plain": [
       "Document(page_content=\"the less you can get a proper read on that so it's important first of all that scientists be part of that process and second that we have much greater transparency about what actually goes into these systems if we don't know what's in them then we don't know exactly how well they're doing when we give something new and we don't know how good a benchmark that will be for something that's entirely novel so I could go into that more but I want to flag that second is on jobs past performance history is not a guarantee of the future it has always been the case in the past that we have had more jobs that new jobs new professions come in as new technologies come in I think this one's going to be different and the real question is over what time time scale is it going to be 10 years is it going to be 100 years and I don't think anybody knows the answer to that question I think in the long run so-called artificial general intelligence really will replace a large fraction of human jobs we're not that close to artificial general intelligence despite all of the media hype and so forth I would say that what we have right now is just small sampling of the AI that we will build in 20 years people will laugh at this as I think it was Senator Hawley made the but maybe Senator Durbin made the example about this it was Senator Durbin made the example about cell phones when we look back at the AI of today 20 years ago we'll be like wow that stuff was really unreliable it couldn't really do planning which is an important technical aspect it's reasoning wasability and reasoning abilities were limited but when we get to AGI or artificial general intelligence mainly let's say it's 50 years that really is going to have I think profound effects on labor and there's just no way around that and last I don't know if I'm allowed to do this but I will note that Sam's worst fear I do not think is employment and he never told us what his worst fear actually is and I think it's germane to find out thank you I'm going to ask Mr Altman if he cares to respond yeah look we have tried to be very clear about the magnitude of the risks here I I think jobs and employment and what we're all going to do with our time really matters I agree that when we get to very powerful systems the landscape will change I think I'm just more optimistic that we are incredibly creative and we find new things to do with better tools and that will keep happening um my worst fears are that we cause significant we the field the technology the industry cause significant harm to the world I think that could happen a lot of different ways it's why we started the company it's a big part of why I'm here today and why we've been here in the past and we've been able to spend some time with you I think if this technology goes wrong it can go quite wrong and we want to be vocal about that we want to work with the government to prevent that from happening but we we try to be very clear-eyed about what the downside case is and the work that we have to do to mitigate that thank you and\", metadata={'source': 'Pn-W41hC764'})"
      ]
     },
     "execution_count": 9,
     "metadata": {},
     "output_type": "execute_result"
    }
   ],
   "source": [
    "text[1]"
   ]
  },
  {
   "cell_type": "markdown",
   "metadata": {},
   "source": [
    "## 사용할 LLM 모델 설정"
   ]
  },
  {
   "cell_type": "markdown",
   "metadata": {},
   "source": [
    "pip install openai\n",
    "pip install tiktoken"
   ]
  },
  {
   "cell_type": "code",
   "execution_count": 12,
   "metadata": {},
   "outputs": [],
   "source": [
    "llm = ChatOpenAI(temperature=0,\n",
    "                    openai_api_key=\"API_key\",\n",
    "                    max_tokens=3000,\n",
    "                    model_name=\"gpt-3.5-turbo\",\n",
    "                    request_timeout=120\n",
    "                )"
   ]
  },
  {
   "cell_type": "markdown",
   "metadata": {},
   "source": [
    "## 요약에 사용할 프롬프트"
   ]
  },
  {
   "cell_type": "code",
   "execution_count": 13,
   "metadata": {},
   "outputs": [],
   "source": [
    "# 각각의 chunck 를 요약하기\n",
    "prompt = PromptTemplate(\n",
    "    template=\"\"\"Summarize the youtube video whose transcript is provided within backticks \\\n",
    "    ```{text}```\n",
    "    \"\"\", input_variables=[\"text\"]\n",
    ")\n",
    "\n",
    "# 요약된 내용들을 취합하여 다시한번 요약하기\n",
    "combine_prompt = PromptTemplate(\n",
    "    template=\"\"\"Combine all the youtube video transcripts  provided within backticks \\\n",
    "    ```{text}```\n",
    "    Provide a concise summary between 8 to 10 sentences.\n",
    "    \"\"\", input_variables=[\"text\"]\n",
    ")"
   ]
  },
  {
   "cell_type": "markdown",
   "metadata": {},
   "source": [
    "## 요약 시작하기"
   ]
  },
  {
   "cell_type": "code",
   "execution_count": 14,
   "metadata": {},
   "outputs": [],
   "source": [
    "chain = load_summarize_chain(llm, chain_type=\"map_reduce\", verbose=False, map_prompt=prompt, combine_prompt=combine_prompt)"
   ]
  },
  {
   "cell_type": "code",
   "execution_count": 16,
   "metadata": {},
   "outputs": [],
   "source": [
    "output = chain.run(text)"
   ]
  },
  {
   "cell_type": "code",
   "execution_count": 17,
   "metadata": {},
   "outputs": [
    {
     "data": {
      "text/plain": [
       "\"The video explores the potential impact of superhuman machine intelligence on jobs and the economy. The speaker believes that while there will be significant changes in employment due to technological advancements, it is challenging to predict the exact consequences. They argue that previous technological revolutions have resulted in the creation of new and improved jobs, and they expect the same to occur with the development of superhuman machine intelligence. The speaker emphasizes that AI should be viewed as a tool rather than a creature, enhancing people's task performance. They acknowledge that some jobs may be automated, but they believe that new and more fulfilling jobs will emerge. Other participants in the video stress the importance of preparing the workforce for AI technologies and the need for transparency in understanding how these models function. The video also highlights the significance of scientists' involvement in AI system development and the need for transparency in comprehending their workings. It mentions that past performance history does not guarantee future job prospects and that while artificial general intelligence may eventually replace a significant portion of human jobs, achieving it is still distant. The speaker expresses optimism that humans will discover new opportunities with better tools but also acknowledges the potential for significant harm if AI technology goes awry.\""
      ]
     },
     "execution_count": 17,
     "metadata": {},
     "output_type": "execute_result"
    }
   ],
   "source": [
    "output"
   ]
  },
  {
   "cell_type": "markdown",
   "metadata": {},
   "source": [
    "## 번역하기"
   ]
  },
  {
   "cell_type": "markdown",
   "metadata": {},
   "source": [
    "pip install googletrans==3.1.0a0"
   ]
  },
  {
   "cell_type": "code",
   "execution_count": 18,
   "metadata": {},
   "outputs": [
    {
     "name": "stdout",
     "output_type": "stream",
     "text": [
      "이 비디오에서는 초인적인 기계 지능이 일자리와 경제에 미치는 잠재적인 영향을 탐구합니다. 발표자는 기술 발전으로 인해 고용에 상당한 변화가 있을 것이라고 믿고 있지만, 정확한 결과를 예측하는 것은 어렵습니다. 그들은 이전의 기술 혁명으로 인해 새롭고 향상된 일자리가 창출되었다고 주장하며, 초인적인 기계 지능의 개발에서도 같은 일이 일어날 것으로 기대합니다. 발표자는 AI를 생물이 아닌 도구로 보아야 하며 사람들의 업무 수행 능력을 향상시켜야 한다고 강조합니다. 그들은 일부 직업이 자동화될 수 있다는 점을 인정하지만 새롭고 더 만족스러운 직업이 나타날 것이라고 믿습니다. 영상의 다른 참가자들은 AI 기술을 위한 인력 준비의 중요성과 이러한 모델의 작동 방식을 이해하는 데 있어 투명성의 필요성을 강조합니다. 이 영상은 또한 AI 시스템 개발에 과학자들이 참여하는 것의 중요성과 그들의 작업을 이해하는 데 있어 투명성의 필요성을 강조합니다. 과거 성과 이력이 미래 직업 전망을 보장하지 않으며 인공 일반 지능이 결국 인간 일자리의 상당 부분을 대체할 수 있지만 이를 달성하려면 아직 멀었다고 언급합니다. 연사는 인간이 더 나은 도구를 사용하여 새로운 기회를 발견할 것이라는 낙관론을 표현하지만 AI 기술이 잘못되면 심각한 해를 끼칠 가능성도 인정합니다.\n"
     ]
    }
   ],
   "source": [
    "from googletrans import Translator\n",
    "\n",
    "def google_trans(messages):\n",
    "    google = Translator()\n",
    "    result = google.translate(messages, dest=\"ko\")\n",
    "\n",
    "    return result.text\n",
    "\n",
    "result = google_trans(output)\n",
    "print(result)"
   ]
  },
  {
   "cell_type": "markdown",
   "metadata": {},
   "source": []
  }
 ],
 "metadata": {
  "kernelspec": {
   "display_name": "ch09_env",
   "language": "python",
   "name": "python3"
  },
  "language_info": {
   "codemirror_mode": {
    "name": "ipython",
    "version": 3
   },
   "file_extension": ".py",
   "mimetype": "text/x-python",
   "name": "python",
   "nbconvert_exporter": "python",
   "pygments_lexer": "ipython3",
   "version": "3.10.10"
  },
  "orig_nbformat": 4
 },
 "nbformat": 4,
 "nbformat_minor": 2
}
